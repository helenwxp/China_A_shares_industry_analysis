{
 "cells": [
  {
   "cell_type": "code",
   "execution_count": 1,
   "id": "318da3d8",
   "metadata": {},
   "outputs": [],
   "source": [
    "import pandas as pd\n",
    "import numpy as np"
   ]
  },
  {
   "cell_type": "code",
   "execution_count": 2,
   "id": "1f7a47ce",
   "metadata": {},
   "outputs": [
    {
     "data": {
      "text/html": [
       "<div>\n",
       "<style scoped>\n",
       "    .dataframe tbody tr th:only-of-type {\n",
       "        vertical-align: middle;\n",
       "    }\n",
       "\n",
       "    .dataframe tbody tr th {\n",
       "        vertical-align: top;\n",
       "    }\n",
       "\n",
       "    .dataframe thead th {\n",
       "        text-align: right;\n",
       "    }\n",
       "</style>\n",
       "<table border=\"1\" class=\"dataframe\">\n",
       "  <thead>\n",
       "    <tr style=\"text-align: right;\">\n",
       "      <th></th>\n",
       "      <th>证券简称</th>\n",
       "      <th>business</th>\n",
       "      <th>words</th>\n",
       "    </tr>\n",
       "    <tr>\n",
       "      <th>证券代码</th>\n",
       "      <th></th>\n",
       "      <th></th>\n",
       "      <th></th>\n",
       "    </tr>\n",
       "  </thead>\n",
       "  <tbody>\n",
       "    <tr>\n",
       "      <th>601010.SH</th>\n",
       "      <td>文峰股份</td>\n",
       "      <td>百货业态超市业态电器业态其他</td>\n",
       "      <td>['百货', '业态', '超市', '业态', '电器', '业态', '其他']</td>\n",
       "    </tr>\n",
       "    <tr>\n",
       "      <th>600595.SH</th>\n",
       "      <td>*ST中孚</td>\n",
       "      <td>铝加工电力电解铝贸易煤炭</td>\n",
       "      <td>['铝', '加工', '电力', '电解铝', '贸易', '煤炭']</td>\n",
       "    </tr>\n",
       "    <tr>\n",
       "      <th>300100.SZ</th>\n",
       "      <td>双林股份</td>\n",
       "      <td>内饰件及其他零部件轮毂单元变速箱</td>\n",
       "      <td>['内饰件', '及', '其他', '零部件', '轮毂', '单元', '变速箱']</td>\n",
       "    </tr>\n",
       "    <tr>\n",
       "      <th>600653.SH</th>\n",
       "      <td>申华控股</td>\n",
       "      <td>汽车销售风力发电其他汽车后市场</td>\n",
       "      <td>['汽车', '销售', '风力', '发电', '其他', '汽车', '后', '市场']</td>\n",
       "    </tr>\n",
       "    <tr>\n",
       "      <th>600660.SH</th>\n",
       "      <td>福耀玻璃</td>\n",
       "      <td>汽车玻璃浮法玻璃其他内部抵销</td>\n",
       "      <td>['汽车', '玻璃', '浮法', '玻璃', '其他', '内部', '抵销']</td>\n",
       "    </tr>\n",
       "    <tr>\n",
       "      <th>600668.SH</th>\n",
       "      <td>尖峰集团</td>\n",
       "      <td>水泥医药工业医药商业其他健康品</td>\n",
       "      <td>['水泥', '医药', '工业', '医药', '商业', '其他', '健康品']</td>\n",
       "    </tr>\n",
       "    <tr>\n",
       "      <th>300064.SZ</th>\n",
       "      <td>*ST金刚</td>\n",
       "      <td>超硬材料其他超硬材料制品</td>\n",
       "      <td>['超硬材料', '其他', '超硬材料制品']</td>\n",
       "    </tr>\n",
       "    <tr>\n",
       "      <th>600686.SH</th>\n",
       "      <td>金龙汽车</td>\n",
       "      <td>汽车及车身件</td>\n",
       "      <td>['汽车', '及', '车身件']</td>\n",
       "    </tr>\n",
       "    <tr>\n",
       "      <th>000807.SZ</th>\n",
       "      <td>云铝股份</td>\n",
       "      <td>铝锭铝加工产品其他</td>\n",
       "      <td>['铝锭', '铝', '加工', '产品', '其他']</td>\n",
       "    </tr>\n",
       "  </tbody>\n",
       "</table>\n",
       "</div>"
      ],
      "text/plain": [
       "            证券简称          business  \\\n",
       "证券代码                                 \n",
       "601010.SH   文峰股份    百货业态超市业态电器业态其他   \n",
       "600595.SH  *ST中孚      铝加工电力电解铝贸易煤炭   \n",
       "300100.SZ   双林股份  内饰件及其他零部件轮毂单元变速箱   \n",
       "600653.SH   申华控股   汽车销售风力发电其他汽车后市场   \n",
       "600660.SH   福耀玻璃    汽车玻璃浮法玻璃其他内部抵销   \n",
       "600668.SH   尖峰集团   水泥医药工业医药商业其他健康品   \n",
       "300064.SZ  *ST金刚      超硬材料其他超硬材料制品   \n",
       "600686.SH   金龙汽车            汽车及车身件   \n",
       "000807.SZ   云铝股份         铝锭铝加工产品其他   \n",
       "\n",
       "                                                     words  \n",
       "证券代码                                                        \n",
       "601010.SH       ['百货', '业态', '超市', '业态', '电器', '业态', '其他']  \n",
       "600595.SH             ['铝', '加工', '电力', '电解铝', '贸易', '煤炭']  \n",
       "300100.SZ     ['内饰件', '及', '其他', '零部件', '轮毂', '单元', '变速箱']  \n",
       "600653.SH  ['汽车', '销售', '风力', '发电', '其他', '汽车', '后', '市场']  \n",
       "600660.SH       ['汽车', '玻璃', '浮法', '玻璃', '其他', '内部', '抵销']  \n",
       "600668.SH      ['水泥', '医药', '工业', '医药', '商业', '其他', '健康品']  \n",
       "300064.SZ                         ['超硬材料', '其他', '超硬材料制品']  \n",
       "600686.SH                               ['汽车', '及', '车身件']  \n",
       "000807.SZ                    ['铝锭', '铝', '加工', '产品', '其他']  "
      ]
     },
     "execution_count": 2,
     "metadata": {},
     "output_type": "execute_result"
    }
   ],
   "source": [
    "#read data from an excel\n",
    "industry_word=pd.read_excel('industry_word.xlsx')\n",
    "industry_word.set_index(\"证券代码\",inplace=True)\n",
    "industry_word"
   ]
  },
  {
   "cell_type": "code",
   "execution_count": 11,
   "id": "7c747719",
   "metadata": {},
   "outputs": [],
   "source": [
    "#construct a word dictionary\n",
    "vocab={}\n",
    "k=0\n",
    "for i in range(len(industry_word)):\n",
    "    for word in industry_word.iloc[i][2]:\n",
    "        if word not in vocab:\n",
    "            vocab[word]=k\n",
    "            k+=1"
   ]
  },
  {
   "cell_type": "code",
   "execution_count": 12,
   "id": "0502c27c",
   "metadata": {},
   "outputs": [
    {
     "data": {
      "text/plain": [
       "{'[': 0,\n",
       " \"'\": 1,\n",
       " '百': 2,\n",
       " '货': 3,\n",
       " ',': 4,\n",
       " ' ': 5,\n",
       " '业': 6,\n",
       " '态': 7,\n",
       " '超': 8,\n",
       " '市': 9,\n",
       " '电': 10,\n",
       " '器': 11,\n",
       " '其': 12,\n",
       " '他': 13,\n",
       " ']': 14,\n",
       " '铝': 15,\n",
       " '加': 16,\n",
       " '工': 17,\n",
       " '力': 18,\n",
       " '解': 19,\n",
       " '贸': 20,\n",
       " '易': 21,\n",
       " '煤': 22,\n",
       " '炭': 23,\n",
       " '内': 24,\n",
       " '饰': 25,\n",
       " '件': 26,\n",
       " '及': 27,\n",
       " '零': 28,\n",
       " '部': 29,\n",
       " '轮': 30,\n",
       " '毂': 31,\n",
       " '单': 32,\n",
       " '元': 33,\n",
       " '变': 34,\n",
       " '速': 35,\n",
       " '箱': 36,\n",
       " '汽': 37,\n",
       " '车': 38,\n",
       " '销': 39,\n",
       " '售': 40,\n",
       " '风': 41,\n",
       " '发': 42,\n",
       " '后': 43,\n",
       " '场': 44,\n",
       " '玻': 45,\n",
       " '璃': 46,\n",
       " '浮': 47,\n",
       " '法': 48,\n",
       " '抵': 49,\n",
       " '水': 50,\n",
       " '泥': 51,\n",
       " '医': 52,\n",
       " '药': 53,\n",
       " '商': 54,\n",
       " '健': 55,\n",
       " '康': 56,\n",
       " '品': 57,\n",
       " '硬': 58,\n",
       " '材': 59,\n",
       " '料': 60,\n",
       " '制': 61,\n",
       " '身': 62,\n",
       " '锭': 63,\n",
       " '产': 64}"
      ]
     },
     "execution_count": 12,
     "metadata": {},
     "output_type": "execute_result"
    }
   ],
   "source": [
    "vocab"
   ]
  },
  {
   "cell_type": "code",
   "execution_count": 13,
   "id": "95807472",
   "metadata": {},
   "outputs": [],
   "source": [
    "#construct frequency vector\n",
    "n=len(industry_word)\n",
    "v=len(vocab)\n",
    "\n",
    "fre=np.zeros(shape=(n,v))\n",
    "for i in range(n):\n",
    "    for word in industry_word.iloc[i][2]:\n",
    "        index=vocab[word]\n",
    "        fre[i][index]+=1"
   ]
  },
  {
   "cell_type": "code",
   "execution_count": 16,
   "metadata": {},
   "outputs": [
    {
     "data": {
      "text/plain": [
       "array([[ 1., 14.,  1.,  1.,  6.,  6.,  3.,  3.,  1.,  1.,  1.,  1.,  1.,\n",
       "         1.,  1.,  0.,  0.,  0.,  0.,  0.,  0.,  0.,  0.,  0.,  0.,  0.,\n",
       "         0.,  0.,  0.,  0.,  0.,  0.,  0.,  0.,  0.,  0.,  0.,  0.,  0.,\n",
       "         0.,  0.,  0.,  0.,  0.,  0.,  0.,  0.,  0.,  0.,  0.,  0.,  0.,\n",
       "         0.,  0.,  0.,  0.,  0.,  0.,  0.,  0.,  0.,  0.,  0.,  0.,  0.],\n",
       "       [ 1., 12.,  0.,  0.,  5.,  5.,  0.,  0.,  0.,  0.,  2.,  0.,  0.,\n",
       "         0.,  1.,  2.,  1.,  1.,  1.,  1.,  1.,  1.,  1.,  1.,  0.,  0.,\n",
       "         0.,  0.,  0.,  0.,  0.,  0.,  0.,  0.,  0.,  0.,  0.,  0.,  0.,\n",
       "         0.,  0.,  0.,  0.,  0.,  0.,  0.,  0.,  0.,  0.,  0.,  0.,  0.,\n",
       "         0.,  0.,  0.,  0.,  0.,  0.,  0.,  0.,  0.,  0.,  0.,  0.,  0.],\n",
       "       [ 1., 14.,  0.,  0.,  6.,  6.,  0.,  0.,  0.,  0.,  0.,  0.,  1.,\n",
       "         1.,  1.,  0.,  0.,  0.,  0.,  0.,  0.,  0.,  0.,  0.,  1.,  1.,\n",
       "         2.,  1.,  1.,  1.,  1.,  1.,  1.,  1.,  1.,  1.,  1.,  0.,  0.,\n",
       "         0.,  0.,  0.,  0.,  0.,  0.,  0.,  0.,  0.,  0.,  0.,  0.,  0.,\n",
       "         0.,  0.,  0.,  0.,  0.,  0.,  0.,  0.,  0.,  0.,  0.,  0.,  0.],\n",
       "       [ 1., 16.,  0.,  0.,  7.,  7.,  0.,  0.,  0.,  1.,  1.,  0.,  1.,\n",
       "         1.,  1.,  0.,  0.,  0.,  1.,  0.,  0.,  0.,  0.,  0.,  0.,  0.,\n",
       "         0.,  0.,  0.,  0.,  0.,  0.,  0.,  0.,  0.,  0.,  0.,  2.,  2.,\n",
       "         1.,  1.,  1.,  1.,  1.,  1.,  0.,  0.,  0.,  0.,  0.,  0.,  0.,\n",
       "         0.,  0.,  0.,  0.,  0.,  0.,  0.,  0.,  0.,  0.,  0.,  0.,  0.],\n",
       "       [ 1., 14.,  0.,  0.,  6.,  6.,  0.,  0.,  0.,  0.,  0.,  0.,  1.,\n",
       "         1.,  1.,  0.,  0.,  0.,  0.,  0.,  0.,  0.,  0.,  0.,  1.,  0.,\n",
       "         0.,  0.,  0.,  1.,  0.,  0.,  0.,  0.,  0.,  0.,  0.,  1.,  1.,\n",
       "         1.,  0.,  0.,  0.,  0.,  0.,  2.,  2.,  1.,  1.,  1.,  0.,  0.,\n",
       "         0.,  0.,  0.,  0.,  0.,  0.,  0.,  0.,  0.,  0.,  0.,  0.,  0.],\n",
       "       [ 1., 14.,  0.,  0.,  6.,  6.,  2.,  0.,  0.,  0.,  0.,  0.,  1.,\n",
       "         1.,  1.,  0.,  0.,  1.,  0.,  0.,  0.,  0.,  0.,  0.,  0.,  0.,\n",
       "         0.,  0.,  0.,  0.,  0.,  0.,  0.,  0.,  0.,  0.,  0.,  0.,  0.,\n",
       "         0.,  0.,  0.,  0.,  0.,  0.,  0.,  0.,  0.,  0.,  0.,  1.,  1.,\n",
       "         2.,  2.,  1.,  1.,  1.,  1.,  0.,  0.,  0.,  0.,  0.,  0.,  0.],\n",
       "       [ 1.,  6.,  0.,  0.,  2.,  2.,  0.,  0.,  2.,  0.,  0.,  0.,  1.,\n",
       "         1.,  1.,  0.,  0.,  0.,  0.,  0.,  0.,  0.,  0.,  0.,  0.,  0.,\n",
       "         0.,  0.,  0.,  0.,  0.,  0.,  0.,  0.,  0.,  0.,  0.,  0.,  0.,\n",
       "         0.,  0.,  0.,  0.,  0.,  0.,  0.,  0.,  0.,  0.,  0.,  0.,  0.,\n",
       "         0.,  0.,  0.,  0.,  0.,  1.,  2.,  2.,  2.,  1.,  0.,  0.,  0.],\n",
       "       [ 1.,  6.,  0.,  0.,  2.,  2.,  0.,  0.,  0.,  0.,  0.,  0.,  0.,\n",
       "         0.,  1.,  0.,  0.,  0.,  0.,  0.,  0.,  0.,  0.,  0.,  0.,  0.,\n",
       "         1.,  1.,  0.,  0.,  0.,  0.,  0.,  0.,  0.,  0.,  0.,  1.,  2.,\n",
       "         0.,  0.,  0.,  0.,  0.,  0.,  0.,  0.,  0.,  0.,  0.,  0.,  0.,\n",
       "         0.,  0.,  0.,  0.,  0.,  0.,  0.,  0.,  0.,  0.,  1.,  0.,  0.],\n",
       "       [ 1., 10.,  0.,  0.,  4.,  4.,  0.,  0.,  0.,  0.,  0.,  0.,  1.,\n",
       "         1.,  1.,  2.,  1.,  1.,  0.,  0.,  0.,  0.,  0.,  0.,  0.,  0.,\n",
       "         0.,  0.,  0.,  0.,  0.,  0.,  0.,  0.,  0.,  0.,  0.,  0.,  0.,\n",
       "         0.,  0.,  0.,  0.,  0.,  0.,  0.,  0.,  0.,  0.,  0.,  0.,  0.,\n",
       "         0.,  0.,  0.,  0.,  0.,  1.,  0.,  0.,  0.,  0.,  0.,  1.,  1.]])"
      ]
     },
     "execution_count": 16,
     "metadata": {},
     "output_type": "execute_result"
    }
   ],
   "source": [
    "fre"
   ]
  },
  {
   "cell_type": "code",
   "execution_count": 33,
   "id": "f03317f8",
   "metadata": {},
   "outputs": [],
   "source": [
    "#calculate cosine similarity\n",
    "n=len(industry_word)\n",
    "sim_matrix=np.zeros(shape=(n,n))\n",
    "for i in range(n):\n",
    "    for j in range(n):\n",
    "        sim_matrix[i][j]=np.dot(fre[i],fre[j])/np.sqrt(np.dot(fre[i], fre[i]) * np.dot(fre[j], fre[j]))\n"
   ]
  },
  {
   "cell_type": "code",
   "execution_count": 35,
   "id": "2da00b3c",
   "metadata": {},
   "outputs": [
    {
     "data": {
      "text/plain": [
       "array([[1.        , 0.92613479, 0.93159426, 0.94247135, 0.93159426,\n",
       "        0.94722346, 0.81561843, 0.8700615 , 0.92676873],\n",
       "       [0.92613479, 1.        , 0.93081562, 0.94695141, 0.93081562,\n",
       "        0.93003128, 0.79467208, 0.87854304, 0.95820261],\n",
       "       [0.93159426, 0.93081562, 1.        , 0.94938577, 0.95138889,\n",
       "        0.93956356, 0.81236239, 0.90611917, 0.93955235],\n",
       "       [0.94247135, 0.94695141, 0.94938577, 1.        , 0.96460028,\n",
       "        0.94447935, 0.81362141, 0.92760145, 0.94345903],\n",
       "       [0.93159426, 0.93081562, 0.95138889, 0.96460028, 1.        ,\n",
       "        0.93956356, 0.81236239, 0.90611917, 0.93955235],\n",
       "       [0.94722346, 0.93003128, 0.93956356, 0.94447935, 0.93956356,\n",
       "        1.        , 0.81537986, 0.87750442, 0.94443318],\n",
       "       [0.81561843, 0.79467208, 0.81236239, 0.81362141, 0.81236239,\n",
       "        0.81537986, 1.        , 0.77052899, 0.82799755],\n",
       "       [0.8700615 , 0.87854304, 0.90611917, 0.92760145, 0.90611917,\n",
       "        0.87750442, 0.77052899, 1.        , 0.88148255],\n",
       "       [0.92676873, 0.95820261, 0.93955235, 0.94345903, 0.93955235,\n",
       "        0.94443318, 0.82799755, 0.88148255, 1.        ]])"
      ]
     },
     "execution_count": 35,
     "metadata": {},
     "output_type": "execute_result"
    }
   ],
   "source": [
    "sim_matrix"
   ]
  },
  {
   "cell_type": "code",
   "execution_count": 36,
   "id": "58f14807",
   "metadata": {},
   "outputs": [],
   "source": [
    "sim_df=pd.DataFrame(sim_matrix)"
   ]
  },
  {
   "cell_type": "code",
   "execution_count": 39,
   "id": "e8f32ae4",
   "metadata": {},
   "outputs": [
    {
     "ename": "ValueError",
     "evalue": "The truth value of a Series is ambiguous. Use a.empty, a.bool(), a.item(), a.any() or a.all().",
     "output_type": "error",
     "traceback": [
      "\u001b[0;31m---------------------------------------------------------------------------\u001b[0m",
      "\u001b[0;31mValueError\u001b[0m                                Traceback (most recent call last)",
      "\u001b[0;32m<ipython-input-39-c8de95d51f60>\u001b[0m in \u001b[0;36m<module>\u001b[0;34m\u001b[0m\n\u001b[0;32m----> 1\u001b[0;31m \u001b[0msim_df\u001b[0m\u001b[0;34m.\u001b[0m\u001b[0mto_excel\u001b[0m\u001b[0;34m(\u001b[0m\u001b[0;34m\"similarity.xlsx\"\u001b[0m\u001b[0;34m,\u001b[0m\u001b[0mindex\u001b[0m\u001b[0;34m=\u001b[0m\u001b[0mindustry_word\u001b[0m\u001b[0;34m.\u001b[0m\u001b[0miloc\u001b[0m\u001b[0;34m[\u001b[0m\u001b[0;36m0\u001b[0m\u001b[0;34m]\u001b[0m\u001b[0;34m,\u001b[0m\u001b[0mheader\u001b[0m\u001b[0;34m=\u001b[0m\u001b[0mindustry_word\u001b[0m\u001b[0;34m.\u001b[0m\u001b[0miloc\u001b[0m\u001b[0;34m[\u001b[0m\u001b[0;36m0\u001b[0m\u001b[0;34m]\u001b[0m\u001b[0;34m)\u001b[0m\u001b[0;34m\u001b[0m\u001b[0;34m\u001b[0m\u001b[0m\n\u001b[0m",
      "\u001b[0;32m~/opt/anaconda3/lib/python3.8/site-packages/pandas/core/generic.py\u001b[0m in \u001b[0;36mto_excel\u001b[0;34m(self, excel_writer, sheet_name, na_rep, float_format, columns, header, index, index_label, startrow, startcol, engine, merge_cells, encoding, inf_rep, verbose, freeze_panes, storage_options)\u001b[0m\n\u001b[1;32m   2187\u001b[0m             \u001b[0minf_rep\u001b[0m\u001b[0;34m=\u001b[0m\u001b[0minf_rep\u001b[0m\u001b[0;34m,\u001b[0m\u001b[0;34m\u001b[0m\u001b[0;34m\u001b[0m\u001b[0m\n\u001b[1;32m   2188\u001b[0m         )\n\u001b[0;32m-> 2189\u001b[0;31m         formatter.write(\n\u001b[0m\u001b[1;32m   2190\u001b[0m             \u001b[0mexcel_writer\u001b[0m\u001b[0;34m,\u001b[0m\u001b[0;34m\u001b[0m\u001b[0;34m\u001b[0m\u001b[0m\n\u001b[1;32m   2191\u001b[0m             \u001b[0msheet_name\u001b[0m\u001b[0;34m=\u001b[0m\u001b[0msheet_name\u001b[0m\u001b[0;34m,\u001b[0m\u001b[0;34m\u001b[0m\u001b[0;34m\u001b[0m\u001b[0m\n",
      "\u001b[0;32m~/opt/anaconda3/lib/python3.8/site-packages/pandas/io/formats/excel.py\u001b[0m in \u001b[0;36mwrite\u001b[0;34m(self, writer, sheet_name, startrow, startcol, freeze_panes, engine, storage_options)\u001b[0m\n\u001b[1;32m    819\u001b[0m \u001b[0;34m\u001b[0m\u001b[0m\n\u001b[1;32m    820\u001b[0m         \u001b[0;32mtry\u001b[0m\u001b[0;34m:\u001b[0m\u001b[0;34m\u001b[0m\u001b[0;34m\u001b[0m\u001b[0m\n\u001b[0;32m--> 821\u001b[0;31m             writer.write_cells(\n\u001b[0m\u001b[1;32m    822\u001b[0m                 \u001b[0mformatted_cells\u001b[0m\u001b[0;34m,\u001b[0m\u001b[0;34m\u001b[0m\u001b[0;34m\u001b[0m\u001b[0m\n\u001b[1;32m    823\u001b[0m                 \u001b[0msheet_name\u001b[0m\u001b[0;34m,\u001b[0m\u001b[0;34m\u001b[0m\u001b[0;34m\u001b[0m\u001b[0m\n",
      "\u001b[0;32m~/opt/anaconda3/lib/python3.8/site-packages/pandas/io/excel/_xlsxwriter.py\u001b[0m in \u001b[0;36mwrite_cells\u001b[0;34m(self, cells, sheet_name, startrow, startcol, freeze_panes)\u001b[0m\n\u001b[1;32m    215\u001b[0m             \u001b[0mwks\u001b[0m\u001b[0;34m.\u001b[0m\u001b[0mfreeze_panes\u001b[0m\u001b[0;34m(\u001b[0m\u001b[0;34m*\u001b[0m\u001b[0;34m(\u001b[0m\u001b[0mfreeze_panes\u001b[0m\u001b[0;34m)\u001b[0m\u001b[0;34m)\u001b[0m\u001b[0;34m\u001b[0m\u001b[0;34m\u001b[0m\u001b[0m\n\u001b[1;32m    216\u001b[0m \u001b[0;34m\u001b[0m\u001b[0m\n\u001b[0;32m--> 217\u001b[0;31m         \u001b[0;32mfor\u001b[0m \u001b[0mcell\u001b[0m \u001b[0;32min\u001b[0m \u001b[0mcells\u001b[0m\u001b[0;34m:\u001b[0m\u001b[0;34m\u001b[0m\u001b[0;34m\u001b[0m\u001b[0m\n\u001b[0m\u001b[1;32m    218\u001b[0m             \u001b[0mval\u001b[0m\u001b[0;34m,\u001b[0m \u001b[0mfmt\u001b[0m \u001b[0;34m=\u001b[0m \u001b[0mself\u001b[0m\u001b[0;34m.\u001b[0m\u001b[0m_value_with_fmt\u001b[0m\u001b[0;34m(\u001b[0m\u001b[0mcell\u001b[0m\u001b[0;34m.\u001b[0m\u001b[0mval\u001b[0m\u001b[0;34m)\u001b[0m\u001b[0;34m\u001b[0m\u001b[0;34m\u001b[0m\u001b[0m\n\u001b[1;32m    219\u001b[0m \u001b[0;34m\u001b[0m\u001b[0m\n",
      "\u001b[0;32m~/opt/anaconda3/lib/python3.8/site-packages/pandas/io/formats/excel.py\u001b[0m in \u001b[0;36mget_formatted_cells\u001b[0;34m(self)\u001b[0m\n\u001b[1;32m    755\u001b[0m \u001b[0;34m\u001b[0m\u001b[0m\n\u001b[1;32m    756\u001b[0m     \u001b[0;32mdef\u001b[0m \u001b[0mget_formatted_cells\u001b[0m\u001b[0;34m(\u001b[0m\u001b[0mself\u001b[0m\u001b[0;34m)\u001b[0m \u001b[0;34m->\u001b[0m \u001b[0mIterable\u001b[0m\u001b[0;34m[\u001b[0m\u001b[0mExcelCell\u001b[0m\u001b[0;34m]\u001b[0m\u001b[0;34m:\u001b[0m\u001b[0;34m\u001b[0m\u001b[0;34m\u001b[0m\u001b[0m\n\u001b[0;32m--> 757\u001b[0;31m         \u001b[0;32mfor\u001b[0m \u001b[0mcell\u001b[0m \u001b[0;32min\u001b[0m \u001b[0mitertools\u001b[0m\u001b[0;34m.\u001b[0m\u001b[0mchain\u001b[0m\u001b[0;34m(\u001b[0m\u001b[0mself\u001b[0m\u001b[0;34m.\u001b[0m\u001b[0m_format_header\u001b[0m\u001b[0;34m(\u001b[0m\u001b[0;34m)\u001b[0m\u001b[0;34m,\u001b[0m \u001b[0mself\u001b[0m\u001b[0;34m.\u001b[0m\u001b[0m_format_body\u001b[0m\u001b[0;34m(\u001b[0m\u001b[0;34m)\u001b[0m\u001b[0;34m)\u001b[0m\u001b[0;34m:\u001b[0m\u001b[0;34m\u001b[0m\u001b[0;34m\u001b[0m\u001b[0m\n\u001b[0m\u001b[1;32m    758\u001b[0m             \u001b[0mcell\u001b[0m\u001b[0;34m.\u001b[0m\u001b[0mval\u001b[0m \u001b[0;34m=\u001b[0m \u001b[0mself\u001b[0m\u001b[0;34m.\u001b[0m\u001b[0m_format_value\u001b[0m\u001b[0;34m(\u001b[0m\u001b[0mcell\u001b[0m\u001b[0;34m.\u001b[0m\u001b[0mval\u001b[0m\u001b[0;34m)\u001b[0m\u001b[0;34m\u001b[0m\u001b[0;34m\u001b[0m\u001b[0m\n\u001b[1;32m    759\u001b[0m             \u001b[0;32myield\u001b[0m \u001b[0mcell\u001b[0m\u001b[0;34m\u001b[0m\u001b[0;34m\u001b[0m\u001b[0m\n",
      "\u001b[0;32m~/opt/anaconda3/lib/python3.8/site-packages/pandas/io/formats/excel.py\u001b[0m in \u001b[0;36m_format_header_regular\u001b[0;34m(self)\u001b[0m\n\u001b[1;32m    571\u001b[0m             \u001b[0mcoloffset\u001b[0m \u001b[0;34m=\u001b[0m \u001b[0;36m0\u001b[0m\u001b[0;34m\u001b[0m\u001b[0;34m\u001b[0m\u001b[0m\n\u001b[1;32m    572\u001b[0m \u001b[0;34m\u001b[0m\u001b[0m\n\u001b[0;32m--> 573\u001b[0;31m             \u001b[0;32mif\u001b[0m \u001b[0mself\u001b[0m\u001b[0;34m.\u001b[0m\u001b[0mindex\u001b[0m\u001b[0;34m:\u001b[0m\u001b[0;34m\u001b[0m\u001b[0;34m\u001b[0m\u001b[0m\n\u001b[0m\u001b[1;32m    574\u001b[0m                 \u001b[0mcoloffset\u001b[0m \u001b[0;34m=\u001b[0m \u001b[0;36m1\u001b[0m\u001b[0;34m\u001b[0m\u001b[0;34m\u001b[0m\u001b[0m\n\u001b[1;32m    575\u001b[0m                 \u001b[0;32mif\u001b[0m \u001b[0misinstance\u001b[0m\u001b[0;34m(\u001b[0m\u001b[0mself\u001b[0m\u001b[0;34m.\u001b[0m\u001b[0mdf\u001b[0m\u001b[0;34m.\u001b[0m\u001b[0mindex\u001b[0m\u001b[0;34m,\u001b[0m \u001b[0mMultiIndex\u001b[0m\u001b[0;34m)\u001b[0m\u001b[0;34m:\u001b[0m\u001b[0;34m\u001b[0m\u001b[0;34m\u001b[0m\u001b[0m\n",
      "\u001b[0;32m~/opt/anaconda3/lib/python3.8/site-packages/pandas/core/generic.py\u001b[0m in \u001b[0;36m__nonzero__\u001b[0;34m(self)\u001b[0m\n\u001b[1;32m   1440\u001b[0m     \u001b[0;34m@\u001b[0m\u001b[0mfinal\u001b[0m\u001b[0;34m\u001b[0m\u001b[0;34m\u001b[0m\u001b[0m\n\u001b[1;32m   1441\u001b[0m     \u001b[0;32mdef\u001b[0m \u001b[0m__nonzero__\u001b[0m\u001b[0;34m(\u001b[0m\u001b[0mself\u001b[0m\u001b[0;34m)\u001b[0m\u001b[0;34m:\u001b[0m\u001b[0;34m\u001b[0m\u001b[0;34m\u001b[0m\u001b[0m\n\u001b[0;32m-> 1442\u001b[0;31m         raise ValueError(\n\u001b[0m\u001b[1;32m   1443\u001b[0m             \u001b[0;34mf\"The truth value of a {type(self).__name__} is ambiguous. \"\u001b[0m\u001b[0;34m\u001b[0m\u001b[0;34m\u001b[0m\u001b[0m\n\u001b[1;32m   1444\u001b[0m             \u001b[0;34m\"Use a.empty, a.bool(), a.item(), a.any() or a.all().\"\u001b[0m\u001b[0;34m\u001b[0m\u001b[0;34m\u001b[0m\u001b[0m\n",
      "\u001b[0;31mValueError\u001b[0m: The truth value of a Series is ambiguous. Use a.empty, a.bool(), a.item(), a.any() or a.all()."
     ]
    }
   ],
   "source": [
    "sim_df.to_excel(\"similarity.xlsx\",index=industry_word.iloc[0],header=industry_word.iloc[0])"
   ]
  },
  {
   "cell_type": "code",
   "execution_count": null,
   "id": "f328ebd9",
   "metadata": {},
   "outputs": [],
   "source": []
  }
 ],
 "metadata": {
  "interpreter": {
   "hash": "8cfb3f5d3732c8e9b7a65fa38dddf816068d0252f6ef0bfbc44616f476e20867"
  },
  "kernelspec": {
   "display_name": "Python 3.8.8 64-bit ('base': conda)",
   "name": "python3"
  },
  "language_info": {
   "codemirror_mode": {
    "name": "ipython",
    "version": 3
   },
   "file_extension": ".py",
   "mimetype": "text/x-python",
   "name": "python",
   "nbconvert_exporter": "python",
   "pygments_lexer": "ipython3",
   "version": "3.8.8"
  }
 },
 "nbformat": 4,
 "nbformat_minor": 5
}
